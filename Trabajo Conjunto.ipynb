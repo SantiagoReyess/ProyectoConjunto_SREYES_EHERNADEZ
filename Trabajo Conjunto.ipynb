{
 "cells": [
  {
   "cell_type": "markdown",
   "id": "66c51e27",
   "metadata": {},
   "source": [
    "<img style=\"float: left; margin: 30px 15px 15px 15px;\" src=\"https://encrypted-tbn0.gstatic.com/images?q=tbn:ANd9GcTFzQj91sOlkeDFkg5HDbjtR4QJYmLXkfMNig&usqp=CAU\" width=\"400\" height=\"500\" /> \n",
    "    \n",
    "    \n",
    "### <font color='navy'> Simulación matemática. \n",
    "\n",
    "**Nombres:** Santiago Reyes, Emiliano Hernández.\n",
    "\n",
    "**Fecha:** 27 de agosto del 2023.\n",
    "\n",
    "**Expediente** : 745826, 745067.\n",
    "    \n",
    "**Profesor:** Oscar David Jaramillo Zuluaga.\n",
    "    \n",
    "**Link Github**: https://github.com/SantiagoReyess/ProyectoConjunto_SREYES_EHERNADEZ\n",
    "\n",
    "# Tarea 1: Clase 2"
   ]
  },
  {
   "cell_type": "markdown",
   "id": "ac29226e",
   "metadata": {},
   "source": [
    "## Enunciado de tarea (Transcibirlo)\n",
    "1. El archivo debe realizarse en parejas y sólo uno de los dos debe crear en su cuenta de Github un repositorio con el nombre ProyectoConjunto_APELLIDO1_APELLIDO2. A la persona que creó el repositorio la llamaremos (ESTUDIANTE 1 ). El APELLIDO se debe de escribir (Iniciales del nombre y primer apellido), por ejemplo si yo creara el archivo lo debería de nombrar ProyectoConjunto_ODJaramillo.\n",
    "2. Posteriormente, desde la cuenta del (ESTUDIANTE 2), 'aquel que no creó el repositorio anterior', ingresar al perfil del ESTUDIANTE 1 y en el repositorio creado en el paso 1, realizar un \"fork\" de este repositorio en su perfil, y además realizar los pasos en Gitkraken para hacer dicho repositorio \"Remoto (REMOTE)\" VER DICHO PROCEDIMIENTO EN LA CLASE Clase2_GitTurorial2.\n",
    "3. Luego de realizados los pasos 1 y 2, el ESTUDIANTE 1 y ESTUDIANTE 2, desde su computador realizar un clone del repositorio creado en el numeral 1 en la carpeta que cada quién haya asignado para el curso en su computador.\n",
    "4. Luego desde Jupyter el ESTUDIANTE 1, crea un nuevo notebook en el repositorio del paso 3.\n",
    "5. En este nuevo notebook el ESTUDIANTE 1 y ESTUDIANTE 2, deben realizar una presentación describiendo sus expectativas del curso y la transcipción de la Figura 1 y Figura 2 respectivamente, haciendo uso de la sintaxis Markdown. Recuerden definir unas celdas donde cada usuario modificará el cuaderno de python para evitar futuros conflictos.\n",
    "6. Cuando ya se encuentre el proyecto conjunto con la información del ESTUDIANTE 1 y ESTUDIANTE 2, el ESTUDIANTE 2 debe de realizar un pull request con las modificaciones realizadas a el ESTUDIANTE 1 para que este realice un merge a la rama master, con las moficaciones propuestas por el ESTUDIANTE 2, TAL Y CÓMO SE REALIZÓ EN CLASE. (Recuerden que los pull request se generan en Gitkraken y se administran los comentarios o cambios propuestos por su compañero desde Github ver Clase1_GitTurorial para aclaración de dudas, donde se explica cómo crear branch y pull request)\n",
    "7. Luego de culminado los pasos anteriores, el ESTUDIANTE 1,realizará un programa que imprima la serie de fibonacci para sus primeros 100 términos en un array de python,usando la rama “master” del repositorio creado. Por otro lado, el ESTUDIANTE 2,creando un “branch” llamado ejerPrograma, generará un programa que muestre los números primos del 0-100. Luego de que el ESTUDIANTE 2 haya terminado su programa, debe de realizar un “pull request” al ESTUDIANTE 1, ANTES de hacer un “merge” de la rama ejerPrograma en el proyecto principal (“master”). Luego de realizado estos pasos NO BORRAR LA RAMA CREADA (ejerPrograma)"
   ]
  },
  {
   "cell_type": "markdown",
   "id": "fecc198a",
   "metadata": {},
   "source": [
    "# Presentación: Santiago Reyes\n",
    "\n",
    "De este curso de Simulación Matemática espero poder aprovechar las bases de programación en Python que hemos adquirido, así como ampliar nuestra capacidad de solución de problemas y optimización a través del modelado y la simulación matemática. Así como aprender a utilizar herramientas tecnológicas para cumplir esto."
   ]
  },
  {
   "cell_type": "markdown",
   "id": "cb91fc86",
   "metadata": {},
   "source": [
    "# Presentación: Emiliano Hernández \n",
    "\n",
    "Con el ayuda de esta materia y todos los conocimientos que se nos impartiran espero adquirir las abilidades necesarios para continuar con mi formación de ingeniero. Aunado a esto con los conocimientos que adquirí en el semestre pasado con la materia de Algorítmos y Programación, y todos las otras materias anteriores a este momento. "
   ]
  },
  {
   "cell_type": "markdown",
   "id": "dda1396a",
   "metadata": {},
   "source": [
    "# Transcripción Imagen 1"
   ]
  },
  {
   "cell_type": "markdown",
   "id": "9c177f34",
   "metadata": {},
   "source": [
    "|$i$        | $x$       | $f(x)$  |\n",
    "| --------|---------|-------|\n",
    "| 0 \t  |  -1  \t| 0.3678|\n",
    "|<span style=\"color:red;\">1</span>|<span style=\"color:red;\">-0.5|<span style=\"color:red;\">0.7788</span>|\n",
    "|<span style=\"color:blue;\">2</span>|<span style=\"color:blue;\">0</span>|<span style=\"color:blue;\">1</span>|\n",
    "|<span style=\"color:red;\">3</span>|<span style=\"color:red;\">-0.5|<span style=\"color:red;\">0.7788</span>|\n",
    "| 4 \t  |   1  \t| 0.3678|\n",
    "\n",
    "\\\\\n",
    "<center>Cuadro 1: Tabla de Valores de f(x)\n",
    "\\\\\n",
    "    \n",
    "\\begin{multline}\n",
    "    \\int_{-1}^{1} e^{-x^2} dx \\approx \\frac{0,5}{3} [f(-1)+f(1)+4(\\color{red}{f(-0,5)+f(0,5)} )+2\\color{blue}{f(0)} ] \\\\\n",
    "    \\approx \\frac{0,5}{3}[0,3678+0.3678+4(\\color{red}{0,7788+0,7788})+2 \\cdot \\color{blue}{1}] \\approx 1,4943\n",
    "\\end{multline}\n",
    "\n",
    "\\begin{align*}\n",
    "& \\text{A modo de verificación, se calculará por software, el valor del área para } n = 100, \\\\\n",
    "& \\text{un valor mucho más elevado al que se utilizó anteriormente. Si lo calculado previamente es correcto, se esperaría que} \\\\\n",
    "& \\text{sea próximo al valor presentado a continuación para ser una buena aproximación.}\n",
    "\\end{align*}\n",
    "\n",
    "$$\n",
    "\\int_{-1}^{1} e^{-x^2} dx \\approx 1,4943\n",
    "$$\n"
   ]
  },
  {
   "cell_type": "markdown",
   "id": "084778a3",
   "metadata": {},
   "source": [
    "# Transcricpción Imagen 2"
   ]
  },
  {
   "cell_type": "markdown",
   "id": "ca60f524",
   "metadata": {},
   "source": [
    "|$i$|1|2|3|4|5|6|7|\n",
    "|-|-|-|-|-|-|-|-|\n",
    "|$E_i(V)$|12|10|24|12|-|-|-|\n",
    "|$r_i(\\Omega)$|0.1|0.5|0.2|0.5|-|-|-|\n",
    "|$R_i(\\Omega)$|25|40|16|20|9|4|20|\n"
   ]
  },
  {
   "cell_type": "markdown",
   "id": "66f84d32",
   "metadata": {},
   "source": [
    "<font color=\"blue\"> Kemna y Vorst (1990)</font> muestran que las opciones asiáticas con media geométrica continua se pueden valuar conn el mismo enfoque de las opciones *plain vanilla*; solo se deben cambiar los parámetros de volatilidad $\\sigma$ por $\\sigma_a$, y el costo de acarreo $\\beta$ por $\\beta_A$."
   ]
  },
  {
   "cell_type": "markdown",
   "id": "49fcd8cb",
   "metadata": {},
   "source": [
    "De acuerdo con Kemna y Vorst, las fórmulas para valuar una opción de compra y una opción de venta son:\n",
    "\n",
    "$$c \\approx S_te^{(b_A-r)}\\Phi(d_1) - Ke^{-r(T-t)}\\Phi(d_2)$$,\n",
    "\n",
    "$$p \\approx Ke^{-r(T-t)}\\Phi(-d_2) - S_te^{(b_A-r)(T-t)}\\Phi(-d_1)$$.\n",
    "\n",
    "con $d_1$ y $d_2$ dados por:\n",
    "\n",
    "$$d_1 = \\frac{\\lim(\\frac{S_t}{K}) + (b_A + \\frac{1}{2}\\sigma_a^2)(T-t)}{\\sigma\\sqrt{T-t}}$$.\n",
    "       "
   ]
  },
  {
   "cell_type": "markdown",
   "id": "19cfd7d6",
   "metadata": {},
   "source": [
    "La función $\\Phi(d)$ es la función de distribución acumulada de $E\\sim N(0, 1)$. La volatilidad ajustada es igual a: \n",
    "\n",
    "$\\sigma_a = \\frac{\\sigma}{\\sqrt 3}$,"
   ]
  },
  {
   "cell_type": "markdown",
   "id": "ddf1c7da",
   "metadata": {},
   "source": [
    "mientras que el costo de acarreo ajustado es:\n",
    "\n",
    "$b_A = \\frac{1}{2}(v-\\frac{\\sigma^2}{6})$."
   ]
  },
  {
   "cell_type": "markdown",
   "id": "0ae01cb7",
   "metadata": {},
   "source": [
    "# Código Python 1"
   ]
  },
  {
   "cell_type": "code",
   "execution_count": 3,
   "id": "43f742a8",
   "metadata": {},
   "outputs": [
    {
     "name": "stdout",
     "output_type": "stream",
     "text": [
      "[1, 1, 2, 3, 5, 8, 13, 21, 34, 55, 89, 144, 233, 377, 610, 987, 1597, 2584, 4181, 6765, 10946, 17711, 28657, 46368, 75025, 121393, 196418, 317811, 514229, 832040, 1346269, 2178309, 3524578, 5702887, 9227465, 14930352, 24157817, 39088169, 63245986, 102334155, 165580141, 267914296, 433494437, 701408733, 1134903170, 1836311903, 2971215073, 4807526976, 7778742049, 12586269025, 20365011074, 32951280099, 53316291173, 86267571272, 139583862445, 225851433717, 365435296162, 591286729879, 956722026041, 1548008755920, 2504730781961, 4052739537881, 6557470319842, 10610209857723, 17167680177565, 27777890035288, 44945570212853, 72723460248141, 117669030460994, 190392490709135, 308061521170129, 498454011879264, 806515533049393, 1304969544928657, 2111485077978050, 3416454622906707, 5527939700884757, 8944394323791464, 14472334024676221, 23416728348467685, 37889062373143906, 61305790721611591, 99194853094755497, 160500643816367088, 259695496911122585, 420196140727489673, 679891637638612258, 1100087778366101931, 1779979416004714189, 2880067194370816120, 4660046610375530309, 7540113804746346429, 12200160415121876738, 19740274219868223167, 31940434634990099905, 51680708854858323072, 83621143489848422977, 135301852344706746049, 218922995834555169026, 354224848179261915075]\n"
     ]
    }
   ],
   "source": [
    "#FIBONACCI\n",
    "n1 = 1\n",
    "n2 = 1\n",
    "arr = []\n",
    "arr.append(n1)\n",
    "arr.append(n2)\n",
    "for i in range(98):\n",
    "    n3 = n1 + n2\n",
    "    n1 = n2\n",
    "    n2 = n3\n",
    "    arr.append(n2)\n",
    "\n",
    "print(arr)\n"
   ]
  },
  {
   "cell_type": "markdown",
   "id": "dfb21117",
   "metadata": {},
   "source": [
    "# Código Python 2"
   ]
  },
  {
   "cell_type": "code",
   "execution_count": 1,
   "id": "3da202d7",
   "metadata": {},
   "outputs": [
    {
     "name": "stdout",
     "output_type": "stream",
     "text": [
      "2, 3, 5, 7, 11, 13, 17, 19, 23, 29, 31, 37, 41, 43, 47, 53, 59, 61, 67, 71, 73, 79, 83, 89, 97, "
     ]
    }
   ],
   "source": [
    "def es_primo(numero):\n",
    "    if numero < 2:\n",
    "        return False\n",
    "    for i in range(2, numero):\n",
    "        if numero % i == 0:\n",
    "            return False\n",
    "    return True\n",
    "\n",
    "for i in range(101):\n",
    "    if es_primo(i):\n",
    "        print(i, end=\", \")"
   ]
  }
 ],
 "metadata": {
  "kernelspec": {
   "display_name": "Python 3 (ipykernel)",
   "language": "python",
   "name": "python3"
  },
  "language_info": {
   "codemirror_mode": {
    "name": "ipython",
    "version": 3
   },
   "file_extension": ".py",
   "mimetype": "text/x-python",
   "name": "python",
   "nbconvert_exporter": "python",
   "pygments_lexer": "ipython3",
   "version": "3.11.4"
  }
 },
 "nbformat": 4,
 "nbformat_minor": 5
}
